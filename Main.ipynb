{
 "cells": [
  {
   "cell_type": "code",
   "execution_count": null,
   "metadata": {},
   "outputs": [],
   "source": [
    "# !pip install -q transformers"
   ]
  },
  {
   "cell_type": "code",
   "execution_count": 1,
   "metadata": {},
   "outputs": [],
   "source": [
    "from flask import Flask, render_template, request, redirect, url_for, make_response,jsonify, request\n",
    "from werkzeug.utils import secure_filename\n",
    "import time\n",
    "from datetime import timedelta\n",
    "from flask_ngrok import run_with_ngrok\n",
    "import os\n",
    "import shutil\n",
    "# import random\n",
    "# import cv2"
   ]
  },
  {
   "cell_type": "code",
   "execution_count": 2,
   "metadata": {},
   "outputs": [],
   "source": [
    "import pytesseract\n",
    "from pytesseract import Output \n",
    "\n",
    "pytesseract.pytesseract.tesseract_cmd = 'D:/tesseract-ocr/tesseract.exe'   "
   ]
  },
  {
   "cell_type": "code",
   "execution_count": 3,
   "metadata": {
    "scrolled": true
   },
   "outputs": [],
   "source": [
    "from transformers import pipeline # regex==2019.11.1"
   ]
  },
  {
   "cell_type": "code",
   "execution_count": 4,
   "metadata": {},
   "outputs": [],
   "source": [
    "try:\n",
    " from PIL import Image\n",
    "except ImportError:\n",
    " import Image"
   ]
  },
  {
   "cell_type": "code",
   "execution_count": 5,
   "metadata": {},
   "outputs": [],
   "source": [
    "from transformers import pipeline "
   ]
  },
  {
   "cell_type": "code",
   "execution_count": 6,
   "metadata": {},
   "outputs": [],
   "source": [
    "summarization = pipeline(\"summarization\")"
   ]
  },
  {
   "cell_type": "code",
   "execution_count": 7,
   "metadata": {},
   "outputs": [],
   "source": [
    "def ocr_core(filename):\n",
    "    \"\"\"\n",
    "    This function will handle the core OCR processing of images.\n",
    "    \"\"\" \n",
    "    img =Image.open(filename)\n",
    "    \n",
    "    img= img.resize((round(img.size[0]*1.5), round(img.size[1]*1.5)))\n",
    "    text = pytesseract.image_to_string(img)  # We'll use Pillow's Image class to open the image and pytesseract to detect the string in the image\n",
    "           \n",
    "    TEXT_TO_SUMMARIZE = text\n",
    "    summary = summarization(TEXT_TO_SUMMARIZE)\n",
    "    print(summary[0]['summary_text'])\n",
    "    summary_output =summary[0]['summary_text']\n",
    "\n",
    "    return text,summary_output"
   ]
  },
  {
   "cell_type": "code",
   "execution_count": 8,
   "metadata": {
    "scrolled": false
   },
   "outputs": [
    {
     "name": "stdout",
     "output_type": "stream",
     "text": [
      " * Serving Flask app \"__main__\" (lazy loading)\n",
      " * Environment: production\n",
      "   WARNING: This is a development server. Do not use it in a production deployment.\n",
      "   Use a production WSGI server instead.\n",
      " * Debug mode: off\n"
     ]
    },
    {
     "name": "stderr",
     "output_type": "stream",
     "text": [
      " * Running on http://0.0.0.0:8987/ (Press CTRL+C to quit)\n",
      "127.0.0.1 - - [18/Nov/2020 10:03:20] \"\u001b[37mGET /upload HTTP/1.1\u001b[0m\" 200 -\n"
     ]
    }
   ],
   "source": [
    "ALLOWED_EXTENSIONS = set(['png', 'jpg', 'JPG', 'PNG', 'bmp'])\n",
    " \n",
    "def allowed_file(filename):\n",
    "    return '.' in filename and filename.rsplit('.', 1)[1] in ALLOWED_EXTENSIONS\n",
    " \n",
    "app = Flask(__name__)\n",
    "\n",
    "# @app.route('/upload', methods=['POST', 'GET'])\n",
    "@app.route('/upload', methods=['POST', 'GET'])  \n",
    "def upload():\n",
    "    if request.method == 'POST':\n",
    "        f = request.files['file']\n",
    " \n",
    "        if not (f and allowed_file(f.filename)):\n",
    "            return jsonify({\"error\": 1001, \"msg\": \"Please Check the format. We allow PNG、jpg、JPG、bmp.\"})\n",
    " \n",
    "        user_input = request.form.get(\"name\")\n",
    " \n",
    "        basepath = r'C:/Users/Alan He/Desktop/Build/' # os.path.dirname(__file__)  # current directory\n",
    "        upload_path = os.path.join(basepath, 'static/images', secure_filename(f.filename))  \n",
    "        f.save(upload_path)\n",
    "        \n",
    "        extracted_text, summary_output = ocr_core(f)\n",
    "        filename1 = f.filename\n",
    "        print(filename1)\n",
    "        return render_template('upload_ok.html',  extracted_text=extracted_text , file_name=filename1 , summary_output1 =summary_output ) # ,userinput=user_input,val1=time.time()\n",
    " \n",
    "    return render_template('upload.html')\n",
    " \n",
    "    \n",
    "app.run(host='0.0.0.0', port=8987, debug=False) # open this website 127.0.0.1:8987/upload"
   ]
  },
  {
   "cell_type": "code",
   "execution_count": null,
   "metadata": {},
   "outputs": [],
   "source": []
  }
 ],
 "metadata": {
  "hide_input": false,
  "kernelspec": {
   "display_name": "Python 3",
   "language": "python",
   "name": "python3"
  },
  "language_info": {
   "codemirror_mode": {
    "name": "ipython",
    "version": 3
   },
   "file_extension": ".py",
   "mimetype": "text/x-python",
   "name": "python",
   "nbconvert_exporter": "python",
   "pygments_lexer": "ipython3",
   "version": "3.6.10"
  }
 },
 "nbformat": 4,
 "nbformat_minor": 4
}
